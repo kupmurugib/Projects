{
  "nbformat": 4,
  "nbformat_minor": 0,
  "metadata": {
    "colab": {
      "name": "Group_171_Assignment_1_Set_1_Q2_NLP_DNN",
      "provenance": [],
      "collapsed_sections": [],
      "toc_visible": true
    },
    "kernelspec": {
      "name": "python3",
      "display_name": "Python 3"
    },
    "language_info": {
      "name": "python"
    }
  },
  "cells": [
    {
      "cell_type": "markdown",
      "metadata": {
        "id": "fGZp599_NB17"
      },
      "source": [
        "# Import Libraries/Dataset"
      ]
    },
    {
      "cell_type": "code",
      "metadata": {
        "id": "ODXMYHRK1gS0"
      },
      "source": [
        "import matplotlib.pyplot as plt\n",
        "import os\n",
        "import re\n",
        "import shutil\n",
        "import string\n",
        "import tensorflow as tf\n",
        "\n",
        "from tensorflow.keras import layers\n",
        "from tensorflow.keras import losses\n",
        "from tensorflow.keras import preprocessing\n",
        "from tensorflow.keras.layers.experimental.preprocessing import TextVectorization\n",
        "# from tensorflow.keras import layers\n",
        "import keras\n",
        "\n",
        "from sklearn.metrics import classification_report\n",
        "import numpy as np\n",
        "from sklearn.metrics import classification_report,confusion_matrix,plot_confusion_matrix\n",
        "from mlxtend.plotting import plot_confusion_matrix"
      ],
      "execution_count": 1,
      "outputs": []
    },
    {
      "cell_type": "code",
      "metadata": {
        "colab": {
          "base_uri": "https://localhost:8080/"
        },
        "id": "9zud6WUE2JcX",
        "outputId": "a70ad8eb-fa81-4c49-9eb9-4b64679eb4de"
      },
      "source": [
        "url = \"https://ai.stanford.edu/~amaas/data/sentiment/aclImdb_v1.tar.gz\"\n",
        "\n",
        "dataset = tf.keras.utils.get_file(\"aclImdb_v1\", url,\n",
        "                                    untar=True, cache_dir='.',\n",
        "                                    cache_subdir='')\n",
        "\n",
        "dataset_dir = os.path.join(os.path.dirname(dataset), 'aclImdb')\n",
        "os.listdir(dataset_dir)"
      ],
      "execution_count": 2,
      "outputs": [
        {
          "output_type": "execute_result",
          "data": {
            "text/plain": [
              "['imdb.vocab', 'train', 'imdbEr.txt', 'README', 'test']"
            ]
          },
          "metadata": {
            "tags": []
          },
          "execution_count": 2
        }
      ]
    },
    {
      "cell_type": "code",
      "metadata": {
        "colab": {
          "base_uri": "https://localhost:8080/"
        },
        "id": "kYUPEWc42qUG",
        "outputId": "3ea5fe72-2fec-4e4c-ba47-1a394735b3db"
      },
      "source": [
        "train_dir = os.path.join(dataset_dir, 'train')\n",
        "os.listdir(train_dir)"
      ],
      "execution_count": 3,
      "outputs": [
        {
          "output_type": "execute_result",
          "data": {
            "text/plain": [
              "['neg',\n",
              " 'pos',\n",
              " 'unsupBow.feat',\n",
              " 'urls_neg.txt',\n",
              " 'urls_pos.txt',\n",
              " 'labeledBow.feat',\n",
              " 'unsup',\n",
              " 'urls_unsup.txt']"
            ]
          },
          "metadata": {
            "tags": []
          },
          "execution_count": 3
        }
      ]
    },
    {
      "cell_type": "code",
      "metadata": {
        "id": "WOBdrz0O2-zA"
      },
      "source": [
        "remove_dir = os.path.join(train_dir, 'unsup')\n",
        "shutil.rmtree(remove_dir)"
      ],
      "execution_count": 4,
      "outputs": []
    },
    {
      "cell_type": "code",
      "metadata": {
        "colab": {
          "base_uri": "https://localhost:8080/"
        },
        "id": "pprERtlE3DF8",
        "outputId": "0e59ff54-721e-4edd-b8b7-8db12d34c734"
      },
      "source": [
        "batch_size = 32\n",
        "seed = 42\n",
        "\n",
        "raw_train_ds = tf.keras.preprocessing.text_dataset_from_directory(\n",
        "    'aclImdb/train', \n",
        "    batch_size=batch_size, \n",
        "    validation_split=0.2, \n",
        "    subset='training', \n",
        "    seed=seed)"
      ],
      "execution_count": 5,
      "outputs": [
        {
          "output_type": "stream",
          "text": [
            "Found 25000 files belonging to 2 classes.\n",
            "Using 20000 files for training.\n"
          ],
          "name": "stdout"
        }
      ]
    },
    {
      "cell_type": "code",
      "metadata": {
        "colab": {
          "base_uri": "https://localhost:8080/"
        },
        "id": "G2FfZViN3iVh",
        "outputId": "40e9bd48-578e-4c0d-9e8e-d7b8810f712e"
      },
      "source": [
        "print(\"Label 0 corresponds to\", raw_train_ds.class_names[0])\n",
        "print(\"Label 1 corresponds to\", raw_train_ds.class_names[1])"
      ],
      "execution_count": 6,
      "outputs": [
        {
          "output_type": "stream",
          "text": [
            "Label 0 corresponds to neg\n",
            "Label 1 corresponds to pos\n"
          ],
          "name": "stdout"
        }
      ]
    },
    {
      "cell_type": "code",
      "metadata": {
        "colab": {
          "base_uri": "https://localhost:8080/"
        },
        "id": "C-VPvEGF3n-l",
        "outputId": "faeffd43-047c-446d-febc-7e924c9cda10"
      },
      "source": [
        "raw_val_ds = tf.keras.preprocessing.text_dataset_from_directory(\n",
        "    'aclImdb/train', \n",
        "    batch_size=batch_size, \n",
        "    validation_split=0.2, \n",
        "    subset='validation', \n",
        "    seed=seed)"
      ],
      "execution_count": 7,
      "outputs": [
        {
          "output_type": "stream",
          "text": [
            "Found 25000 files belonging to 2 classes.\n",
            "Using 5000 files for validation.\n"
          ],
          "name": "stdout"
        }
      ]
    },
    {
      "cell_type": "code",
      "metadata": {
        "colab": {
          "base_uri": "https://localhost:8080/"
        },
        "id": "NEOsTo9n300u",
        "outputId": "7ee4f363-c57f-48ac-fcf5-15c3a3d8d16d"
      },
      "source": [
        "raw_test_ds = tf.keras.preprocessing.text_dataset_from_directory(\n",
        "    'aclImdb/test', \n",
        "    batch_size=batch_size)"
      ],
      "execution_count": 8,
      "outputs": [
        {
          "output_type": "stream",
          "text": [
            "Found 25000 files belonging to 2 classes.\n"
          ],
          "name": "stdout"
        }
      ]
    },
    {
      "cell_type": "markdown",
      "metadata": {
        "id": "zcuir8gXQ47w"
      },
      "source": [
        "# Data Visualization"
      ]
    },
    {
      "cell_type": "code",
      "metadata": {
        "colab": {
          "base_uri": "https://localhost:8080/"
        },
        "id": "8RKjCcBE3aLO",
        "outputId": "215cdf50-16d9-4121-fa39-31ab8f551a7d"
      },
      "source": [
        "## Printing  at least two texts from each class of the dataset(pos and neg).\n",
        "for text_batch, label_batch in raw_train_ds.take(1):\n",
        "  pos_count = 0\n",
        "  neg_count = 0\n",
        "  for i in range(batch_size):\n",
        "    if pos_count >= 2 and neg_count >= 2 :\n",
        "      break\n",
        "    if label_batch.numpy()[i] == 1 and pos_count <= 1:\n",
        "      pos_count += 1\n",
        "      print(\"Review\", text_batch.numpy()[i])\n",
        "      print(\"Label\", label_batch.numpy()[i])\n",
        "    if label_batch.numpy()[i] == 0 and neg_count <= 1:\n",
        "      neg_count += 1\n",
        "      print(\"Review\", text_batch.numpy()[i])\n",
        "      print(\"Label\", label_batch.numpy()[i])\n"
      ],
      "execution_count": 9,
      "outputs": [
        {
          "output_type": "stream",
          "text": [
            "Review b'\"Pandemonium\" is a horror movie spoof that comes off more stupid than funny. Believe me when I tell you, I love comedies. Especially comedy spoofs. \"Airplane\", \"The Naked Gun\" trilogy, \"Blazing Saddles\", \"High Anxiety\", and \"Spaceballs\" are some of my favorite comedies that spoof a particular genre. \"Pandemonium\" is not up there with those films. Most of the scenes in this movie had me sitting there in stunned silence because the movie wasn\\'t all that funny. There are a few laughs in the film, but when you watch a comedy, you expect to laugh a lot more than a few times and that\\'s all this film has going for it. Geez, \"Scream\" had more laughs than this film and that was more of a horror film. How bizarre is that?<br /><br />*1/2 (out of four)'\n",
            "Label 0\n",
            "Review b\"David Mamet is a very interesting and a very un-equal director. His first movie 'House of Games' was the one I liked best, and it set a series of films with characters whose perspective of life changes as they get into complicated situations, and so does the perspective of the viewer.<br /><br />So is 'Homicide' which from the title tries to set the mind of the viewer to the usual crime drama. The principal characters are two cops, one Jewish and one Irish who deal with a racially charged area. The murder of an old Jewish shop owner who proves to be an ancient veteran of the Israeli Independence war triggers the Jewish identity in the mind and heart of the Jewish detective.<br /><br />This is were the flaws of the film are the more obvious. The process of awakening is theatrical and hard to believe, the group of Jewish militants is operatic, and the way the detective eventually walks to the final violent confrontation is pathetic. The end of the film itself is Mamet-like smart, but disappoints from a human emotional perspective.<br /><br />Joe Mantegna and William Macy give strong performances, but the flaws of the story are too evident to be easily compensated.\"\n",
            "Label 0\n",
            "Review b'Great documentary about the lives of NY firefighters during the worst terrorist attack of all time.. That reason alone is why this should be a must see collectors item.. What shocked me was not only the attacks, but the\"High Fat Diet\" and physical appearance of some of these firefighters. I think a lot of Doctors would agree with me that,in the physical shape they were in, some of these firefighters would NOT of made it to the 79th floor carrying over 60 lbs of gear. Having said that i now have a greater respect for firefighters and i realize becoming a firefighter is a life altering job. The French have a history of making great documentary\\'s and that is what this is, a Great Documentary.....'\n",
            "Label 1\n",
            "Review b'Finally a thriller which omits the car chases, explosions and other eye catching effects. The movie combines a simple plot (assasination of a french president) with an excellent background. It takes a look behind mans behavior with authorities, and explains why we would obey almost every order (even murder) which would be given to us.<br /><br />Furthermore it shows us how secret services can manipulate the run of history and how hardly they can be controlled. The best thing on this movie is, that there is no classic \"Hollywood end\" which can easily be predicted.'\n",
            "Label 1\n"
          ],
          "name": "stdout"
        }
      ]
    },
    {
      "cell_type": "code",
      "metadata": {
        "colab": {
          "base_uri": "https://localhost:8080/",
          "height": 545
        },
        "id": "OeX8GaVVFbeQ",
        "outputId": "e99968ce-e747-4a9e-f5d1-a8f293ffd30f"
      },
      "source": [
        "## Plot a bar graph of class distribution in a dataset.\n",
        "train_data_dir_pos_files = len(os.listdir(\"aclImdb/train/pos\"))\n",
        "train_data_dir_neg_files = len(os.listdir(\"aclImdb/train/neg\"))\n",
        "test_data_dir_pos_files = len(os.listdir(\"aclImdb/test/pos\"))\n",
        "test_data_dir_neg_files = len(os.listdir(\"aclImdb/test/neg\"))\n",
        "cat = ['pos', 'neg']\n",
        "train_counts = [train_data_dir_pos_files, train_data_dir_neg_files]\n",
        "plt.bar(cat, train_counts)\n",
        "plt.title(\"train data distribution\")\n",
        "plt.show()\n",
        "test_counts = [test_data_dir_pos_files, test_data_dir_neg_files]\n",
        "plt.bar(cat, test_counts)\n",
        "plt.title(\"test data distribution\")\n",
        "plt.show()"
      ],
      "execution_count": 10,
      "outputs": [
        {
          "output_type": "display_data",
          "data": {
            "image/png": "[encoded data removed]",
            "text/plain": [
              "<Figure size 432x288 with 1 Axes>"
            ]
          },
          "metadata": {
            "tags": [],
            "needs_background": "light"
          }
        },
        {
          "output_type": "display_data",
          "data": {
            "image/png": "[encoded data removed]",
            "text/plain": [
              "<Figure size 432x288 with 1 Axes>"
            ]
          },
          "metadata": {
            "tags": [],
            "needs_background": "light"
          }
        }
      ]
    },
    {
      "cell_type": "markdown",
      "metadata": {
        "id": "0X9i8osuNrg4"
      },
      "source": [
        "# Data Pre-processing"
      ]
    },
    {
      "cell_type": "markdown",
      "metadata": {
        "id": "gjuIV9Qf4Ng7"
      },
      "source": [
        "Prepare the dataset for training\n"
      ]
    },
    {
      "cell_type": "code",
      "metadata": {
        "id": "Wxg4vFqb4Rtg"
      },
      "source": [
        "def custom_standardization(input_data):\n",
        "  lowercase = tf.strings.lower(input_data)\n",
        "  stripped_html = tf.strings.regex_replace(lowercase, '<br />', ' ')\n",
        "  return tf.strings.regex_replace(stripped_html,\n",
        "                                  '[%s]' % re.escape(string.punctuation),\n",
        "                                  '')"
      ],
      "execution_count": 11,
      "outputs": []
    },
    {
      "cell_type": "code",
      "metadata": {
        "id": "f52v63Gl4XU7"
      },
      "source": [
        "max_features = 10000\n",
        "sequence_length = 250\n",
        "\n",
        "vectorize_layer = TextVectorization(\n",
        "    standardize=custom_standardization,\n",
        "    max_tokens=max_features,\n",
        "    output_mode='int',\n",
        "    output_sequence_length=sequence_length)"
      ],
      "execution_count": 12,
      "outputs": []
    },
    {
      "cell_type": "code",
      "metadata": {
        "id": "rtk_898F4yC7"
      },
      "source": [
        "# Make a text-only dataset (without labels), then call adapt\n",
        "train_text = raw_train_ds.map(lambda x, y: x)\n",
        "vectorize_layer.adapt(train_text)"
      ],
      "execution_count": 13,
      "outputs": []
    },
    {
      "cell_type": "code",
      "metadata": {
        "id": "GrSmNfNV48qr"
      },
      "source": [
        "def vectorize_text(text, label):\n",
        "  text = tf.expand_dims(text, -1)\n",
        "  return vectorize_layer(text), label"
      ],
      "execution_count": 14,
      "outputs": []
    },
    {
      "cell_type": "code",
      "metadata": {
        "colab": {
          "base_uri": "https://localhost:8080/"
        },
        "id": "F9LDW5CO5AQy",
        "outputId": "9b524181-af42-48a7-aef1-224ee096917e"
      },
      "source": [
        "# retrieve a batch (of 32 reviews and labels) from the dataset\n",
        "text_batch, label_batch = next(iter(raw_train_ds))\n",
        "first_review, first_label = text_batch[0], label_batch[0]\n",
        "print(\"Review\", first_review)\n",
        "print(\"Label\", raw_train_ds.class_names[first_label])\n",
        "print(\"Vectorized review\", vectorize_text(first_review, first_label))"
      ],
      "execution_count": 15,
      "outputs": [
        {
          "output_type": "stream",
          "text": [
            "Review tf.Tensor(b'Great movie - especially the music - Etta James - \"At Last\". This speaks volumes when you have finally found that special someone.', shape=(), dtype=string)\n",
            "Label neg\n",
            "Vectorized review (<tf.Tensor: shape=(1, 250), dtype=int64, numpy=\n",
            "array([[  86,   17,  260,    2,  222,    1,  571,   31,  229,   11, 2418,\n",
            "           1,   51,   22,   25,  404,  251,   12,  306,  282,    0,    0,\n",
            "           0,    0,    0,    0,    0,    0,    0,    0,    0,    0,    0,\n",
            "           0,    0,    0,    0,    0,    0,    0,    0,    0,    0,    0,\n",
            "           0,    0,    0,    0,    0,    0,    0,    0,    0,    0,    0,\n",
            "           0,    0,    0,    0,    0,    0,    0,    0,    0,    0,    0,\n",
            "           0,    0,    0,    0,    0,    0,    0,    0,    0,    0,    0,\n",
            "           0,    0,    0,    0,    0,    0,    0,    0,    0,    0,    0,\n",
            "           0,    0,    0,    0,    0,    0,    0,    0,    0,    0,    0,\n",
            "           0,    0,    0,    0,    0,    0,    0,    0,    0,    0,    0,\n",
            "           0,    0,    0,    0,    0,    0,    0,    0,    0,    0,    0,\n",
            "           0,    0,    0,    0,    0,    0,    0,    0,    0,    0,    0,\n",
            "           0,    0,    0,    0,    0,    0,    0,    0,    0,    0,    0,\n",
            "           0,    0,    0,    0,    0,    0,    0,    0,    0,    0,    0,\n",
            "           0,    0,    0,    0,    0,    0,    0,    0,    0,    0,    0,\n",
            "           0,    0,    0,    0,    0,    0,    0,    0,    0,    0,    0,\n",
            "           0,    0,    0,    0,    0,    0,    0,    0,    0,    0,    0,\n",
            "           0,    0,    0,    0,    0,    0,    0,    0,    0,    0,    0,\n",
            "           0,    0,    0,    0,    0,    0,    0,    0,    0,    0,    0,\n",
            "           0,    0,    0,    0,    0,    0,    0,    0,    0,    0,    0,\n",
            "           0,    0,    0,    0,    0,    0,    0,    0,    0,    0,    0,\n",
            "           0,    0,    0,    0,    0,    0,    0,    0,    0,    0,    0,\n",
            "           0,    0,    0,    0,    0,    0,    0,    0]])>, <tf.Tensor: shape=(), dtype=int32, numpy=0>)\n"
          ],
          "name": "stdout"
        }
      ]
    },
    {
      "cell_type": "code",
      "metadata": {
        "colab": {
          "base_uri": "https://localhost:8080/"
        },
        "id": "UjLZMmFy5GGQ",
        "outputId": "a35efbb2-4e50-4361-bd7b-beb9ad3a3412"
      },
      "source": [
        "print(\"1287 ---> \",vectorize_layer.get_vocabulary()[1287])\n",
        "print(\" 313 ---> \",vectorize_layer.get_vocabulary()[313])\n",
        "print('Vocabulary size: {}'.format(len(vectorize_layer.get_vocabulary())))"
      ],
      "execution_count": 16,
      "outputs": [
        {
          "output_type": "stream",
          "text": [
            "1287 --->  silent\n",
            " 313 --->  night\n",
            "Vocabulary size: 10000\n"
          ],
          "name": "stdout"
        }
      ]
    },
    {
      "cell_type": "code",
      "metadata": {
        "id": "8LHAj8hN5TDC"
      },
      "source": [
        "train_ds = raw_train_ds.map(vectorize_text)\n",
        "val_ds = raw_val_ds.map(vectorize_text)\n",
        "test_ds = raw_test_ds.map(vectorize_text)"
      ],
      "execution_count": 17,
      "outputs": []
    },
    {
      "cell_type": "markdown",
      "metadata": {
        "id": "ROMbcFhP5x8c"
      },
      "source": [
        "Configure the dataset for performance"
      ]
    },
    {
      "cell_type": "code",
      "metadata": {
        "id": "6wP3QhKJ52Vs"
      },
      "source": [
        "AUTOTUNE = tf.data.AUTOTUNE\n",
        "\n",
        "train_ds = train_ds.cache().prefetch(buffer_size=AUTOTUNE)\n",
        "val_ds = val_ds.cache().prefetch(buffer_size=AUTOTUNE)\n",
        "test_ds = test_ds.cache().prefetch(buffer_size=AUTOTUNE)"
      ],
      "execution_count": 18,
      "outputs": []
    },
    {
      "cell_type": "markdown",
      "metadata": {
        "id": "L4VMN45ORGQL"
      },
      "source": [
        "# Model-1 : Building, Compiling, Training, Evaluation"
      ]
    },
    {
      "cell_type": "code",
      "metadata": {
        "id": "iqp71H6C6e3-"
      },
      "source": [
        "embedding_dim = 16"
      ],
      "execution_count": 19,
      "outputs": []
    },
    {
      "cell_type": "code",
      "metadata": {
        "colab": {
          "base_uri": "https://localhost:8080/",
          "height": 1000
        },
        "id": "VME9bFrl6jqa",
        "outputId": "b05a6726-f8cb-4637-8e8b-51526036bb7f"
      },
      "source": [
        "# Model Building\n",
        "model = tf.keras.Sequential([\n",
        "  layers.Embedding(max_features + 1, embedding_dim),\n",
        "  layers.GlobalAveragePooling1D(),\n",
        "  layers.Dense(16, activation=tf.nn.relu, kernel_regularizer=keras.regularizers.l2(0.001)),\n",
        "  layers.Dense(32, activation=tf.nn.relu, kernel_regularizer=keras.regularizers.l2(0.001)),\n",
        "  layers.Dense(64, activation=tf.nn.relu, kernel_regularizer=keras.regularizers.l2(0.001)),\n",
        "  layers.Dropout(0.2),\n",
        "  layers.Dense(1)\n",
        "  ])\n",
        "model.summary()\n",
        "\n",
        "# Model Compilation\n",
        "optimizer = keras.optimizers.Adam(learning_rate=0.001)\n",
        "model.compile(loss=losses.BinaryCrossentropy(from_logits=True),\n",
        "              optimizer=optimizer,\n",
        "              metrics=tf.metrics.BinaryAccuracy(threshold=0.0))\n",
        "\n",
        "# Model Training\n",
        "epochs = 10\n",
        "history = model.fit(train_ds, validation_data=val_ds, epochs=epochs, batch_size=400)\n",
        "model_history = history\n",
        "\n",
        "\n",
        "# Model Evaluation\n",
        "loss, accuracy = model.evaluate(test_ds)\n",
        "\n",
        "print(\"\\n\")\n",
        "print(\"Loss: \", loss)\n",
        "print(\"Accuracy: \", accuracy)\n",
        "\n",
        "history_dict = model_history.history\n",
        "history_dict.keys()\n",
        "\n",
        "\n",
        "acc = history_dict['binary_accuracy']\n",
        "val_acc = history_dict['val_binary_accuracy']\n",
        "loss = history_dict['loss']\n",
        "val_loss = history_dict['val_loss']\n",
        "\n",
        "print(\"\\n\")\n",
        "print(\"Final train and validation loss and accuracy for the Model\")\n",
        "print(\"Final Training Loss : \" , loss[-1])\n",
        "print(\"Final Training Accuracy : \", acc[-1])\n",
        "print(\"Final Validation Loss : \", val_loss[-1])\n",
        "print(\"Final Validation Accuracy : \", val_acc[-1])\n",
        "print(\"\\n\")\n",
        "\n",
        "epochs = range(1, len(acc) + 1)\n",
        "\n",
        "plt.plot(epochs, loss, 'bo', label='Training loss')\n",
        "plt.plot(epochs, val_loss, 'b', label='Validation loss')\n",
        "plt.title('Training and validation loss')\n",
        "plt.xlabel('Epochs')\n",
        "plt.ylabel('Loss')\n",
        "plt.legend()\n",
        "\n",
        "plt.show()\n",
        "\n",
        "\n",
        "plt.plot(epochs, acc, 'bo', label='Training acc')\n",
        "plt.plot(epochs, val_acc, 'b', label='Validation acc')\n",
        "plt.title('Training and validation accuracy')\n",
        "plt.xlabel('Epochs')\n",
        "plt.ylabel('Accuracy')\n",
        "plt.legend(loc='lower right')\n",
        "\n",
        "plt.show()"
      ],
      "execution_count": 20,
      "outputs": [
        {
          "output_type": "stream",
          "text": [
            "Model: \"sequential\"\n",
            "_________________________________________________________________\n",
            "Layer (type)                 Output Shape              Param #   \n",
            "=================================================================\n",
            "embedding (Embedding)        (None, None, 16)          160016    \n",
            "_________________________________________________________________\n",
            "global_average_pooling1d (Gl (None, 16)                0         \n",
            "_________________________________________________________________\n",
            "dense (Dense)                (None, 16)                272       \n",
            "_________________________________________________________________\n",
            "dense_1 (Dense)              (None, 32)                544       \n",
            "_________________________________________________________________\n",
            "dense_2 (Dense)              (None, 64)                2112      \n",
            "_________________________________________________________________\n",
            "dropout (Dropout)            (None, 64)                0         \n",
            "_________________________________________________________________\n",
            "dense_3 (Dense)              (None, 1)                 65        \n",
            "=================================================================\n",
            "Total params: 163,009\n",
            "Trainable params: 163,009\n",
            "Non-trainable params: 0\n",
            "_________________________________________________________________\n",
            "Epoch 1/10\n",
            "625/625 [==============================] - 11s 17ms/step - loss: 0.5962 - binary_accuracy: 0.6600 - val_loss: 0.3634 - val_binary_accuracy: 0.8640\n",
            "Epoch 2/10\n",
            "625/625 [==============================] - 3s 5ms/step - loss: 0.3186 - binary_accuracy: 0.8871 - val_loss: 0.3369 - val_binary_accuracy: 0.8768\n",
            "Epoch 3/10\n",
            "625/625 [==============================] - 3s 5ms/step - loss: 0.2571 - binary_accuracy: 0.9189 - val_loss: 0.3476 - val_binary_accuracy: 0.8726\n",
            "Epoch 4/10\n",
            "625/625 [==============================] - 3s 5ms/step - loss: 0.2178 - binary_accuracy: 0.9388 - val_loss: 0.3609 - val_binary_accuracy: 0.8718\n",
            "Epoch 5/10\n",
            "625/625 [==============================] - 3s 5ms/step - loss: 0.1902 - binary_accuracy: 0.9521 - val_loss: 0.3899 - val_binary_accuracy: 0.8674\n",
            "Epoch 6/10\n",
            "625/625 [==============================] - 3s 5ms/step - loss: 0.1663 - binary_accuracy: 0.9644 - val_loss: 0.4109 - val_binary_accuracy: 0.8678\n",
            "Epoch 7/10\n",
            "625/625 [==============================] - 3s 5ms/step - loss: 0.1475 - binary_accuracy: 0.9724 - val_loss: 0.4296 - val_binary_accuracy: 0.8690\n",
            "Epoch 8/10\n",
            "625/625 [==============================] - 3s 5ms/step - loss: 0.1338 - binary_accuracy: 0.9782 - val_loss: 0.4573 - val_binary_accuracy: 0.8666\n",
            "Epoch 9/10\n",
            "625/625 [==============================] - 3s 5ms/step - loss: 0.1236 - binary_accuracy: 0.9811 - val_loss: 0.4939 - val_binary_accuracy: 0.8628\n",
            "Epoch 10/10\n",
            "625/625 [==============================] - 3s 5ms/step - loss: 0.1155 - binary_accuracy: 0.9830 - val_loss: 0.5401 - val_binary_accuracy: 0.8544\n",
            "782/782 [==============================] - 9s 11ms/step - loss: 0.6353 - binary_accuracy: 0.8300\n",
            "\n",
            "\n",
            "Loss:  0.635286271572113\n",
            "Accuracy:  0.8299999833106995\n",
            "\n",
            "\n",
            "Final train and validation loss and accuracy for the Model\n",
            "Final Training Loss :  0.11550910770893097\n",
            "Final Training Accuracy :  0.9830499887466431\n",
            "Final Validation Loss :  0.5401000380516052\n",
            "Final Validation Accuracy :  0.8543999791145325\n",
            "\n",
            "\n"
          ],
          "name": "stdout"
        },
        {
          "output_type": "display_data",
          "data": {
            "image/png": "[encoded data removed]",
            "text/plain": [
              "<Figure size 432x288 with 1 Axes>"
            ]
          },
          "metadata": {
            "tags": [],
            "needs_background": "light"
          }
        },
        {
          "output_type": "display_data",
          "data": {
            "image/png": "[encoded data removed]",
            "text/plain": [
              "<Figure size 432x288 with 1 Axes>"
            ]
          },
          "metadata": {
            "tags": [],
            "needs_background": "light"
          }
        }
      ]
    },
    {
      "cell_type": "markdown",
      "metadata": {
        "id": "brWaISmx-8JK"
      },
      "source": [
        "# Model - 2 : Building, Compiling, Training, Evaluation"
      ]
    },
    {
      "cell_type": "code",
      "metadata": {
        "colab": {
          "base_uri": "https://localhost:8080/",
          "height": 1000
        },
        "id": "FwzxdNjmS974",
        "outputId": "4890bea0-0ffa-4050-e6c3-8981e23362fe"
      },
      "source": [
        "# Hyperparameter Tuning- \n",
        "# Dropout: Change the position and value of dropout layer\n",
        "\n",
        "# Model Building\n",
        "model_for_dropout_change = tf.keras.Sequential([\n",
        "  layers.Embedding(max_features + 1, embedding_dim),\n",
        "  layers.GlobalAveragePooling1D(),\n",
        "  layers.Dense(16, activation=tf.nn.relu, kernel_regularizer=keras.regularizers.l2(0.001)),\n",
        "  layers.Dense(32, activation=tf.nn.relu, kernel_regularizer=keras.regularizers.l2(0.001)),\n",
        "  layers.Dropout(0.4),\n",
        "  layers.Dense(64, activation=tf.nn.relu, kernel_regularizer=keras.regularizers.l2(0.001)),\n",
        "  layers.Dense(1)\n",
        "  ])\n",
        "model_for_dropout_change.summary()\n",
        "\n",
        "# Model Compilation\n",
        "optimizer = keras.optimizers.Adam(learning_rate=0.001)\n",
        "model_for_dropout_change.compile(loss=losses.BinaryCrossentropy(from_logits=True),\n",
        "              optimizer=optimizer,\n",
        "              metrics=tf.metrics.BinaryAccuracy(threshold=0.0))\n",
        "\n",
        "# Model Training\n",
        "epochs = 10\n",
        "history = model_for_dropout_change.fit(train_ds, validation_data=val_ds, epochs=epochs, batch_size=400)\n",
        "# history = model_for_dropout_change.fit(train_ds, validation_data=val_ds, epochs=epochs)\n",
        "model_for_dropout_change_history = history\n",
        "\n",
        "# Model Evaluation\n",
        "loss, accuracy = model_for_dropout_change.evaluate(test_ds)\n",
        "\n",
        "print(\"\\n\")\n",
        "print(\"Loss: \", loss)\n",
        "print(\"Accuracy: \", accuracy)\n",
        "print(\"\\n\")\n",
        "\n",
        "history_dict = model_for_dropout_change_history.history\n",
        "history_dict.keys()\n",
        "\n",
        "\n",
        "acc = history_dict['binary_accuracy']\n",
        "val_acc = history_dict['val_binary_accuracy']\n",
        "loss = history_dict['loss']\n",
        "val_loss = history_dict['val_loss']\n",
        "\n",
        "print(\"\\n\")\n",
        "print(\"Final train and validation loss and accuracy for the Model\")\n",
        "print(\"Final Training Loss : \" , loss[-1])\n",
        "print(\"Final Training Accuracy : \", acc[-1])\n",
        "print(\"Final Validation Loss : \", val_loss[-1])\n",
        "print(\"Final Validation Accuracy : \", val_acc[-1])\n",
        "print(\"\\n\")\n",
        "\n",
        "epochs = range(1, len(acc) + 1)\n",
        "\n",
        "\n",
        "plt.plot(epochs, loss, 'bo', label='Training loss')\n",
        "plt.plot(epochs, val_loss, 'b', label='Validation loss')\n",
        "plt.title('Training and validation loss')\n",
        "plt.xlabel('Epochs')\n",
        "plt.ylabel('Loss')\n",
        "plt.legend()\n",
        "\n",
        "plt.show()\n",
        "\n",
        "\n",
        "plt.plot(epochs, acc, 'bo', label='Training acc')\n",
        "plt.plot(epochs, val_acc, 'b', label='Validation acc')\n",
        "plt.title('Training and validation accuracy')\n",
        "plt.xlabel('Epochs')\n",
        "plt.ylabel('Accuracy')\n",
        "plt.legend(loc='lower right')\n",
        "\n",
        "plt.show()\n"
      ],
      "execution_count": 21,
      "outputs": [
        {
          "output_type": "stream",
          "text": [
            "Model: \"sequential_1\"\n",
            "_________________________________________________________________\n",
            "Layer (type)                 Output Shape              Param #   \n",
            "=================================================================\n",
            "embedding_1 (Embedding)      (None, None, 16)          160016    \n",
            "_________________________________________________________________\n",
            "global_average_pooling1d_1 ( (None, 16)                0         \n",
            "_________________________________________________________________\n",
            "dense_4 (Dense)              (None, 16)                272       \n",
            "_________________________________________________________________\n",
            "dense_5 (Dense)              (None, 32)                544       \n",
            "_________________________________________________________________\n",
            "dropout_1 (Dropout)          (None, 32)                0         \n",
            "_________________________________________________________________\n",
            "dense_6 (Dense)              (None, 64)                2112      \n",
            "_________________________________________________________________\n",
            "dense_7 (Dense)              (None, 1)                 65        \n",
            "=================================================================\n",
            "Total params: 163,009\n",
            "Trainable params: 163,009\n",
            "Non-trainable params: 0\n",
            "_________________________________________________________________\n",
            "Epoch 1/10\n",
            "625/625 [==============================] - 4s 6ms/step - loss: 0.6537 - binary_accuracy: 0.5974 - val_loss: 0.3877 - val_binary_accuracy: 0.8564\n",
            "Epoch 2/10\n",
            "625/625 [==============================] - 3s 5ms/step - loss: 0.3471 - binary_accuracy: 0.8761 - val_loss: 0.3433 - val_binary_accuracy: 0.8702\n",
            "Epoch 3/10\n",
            "625/625 [==============================] - 3s 5ms/step - loss: 0.2786 - binary_accuracy: 0.9121 - val_loss: 0.3464 - val_binary_accuracy: 0.8734\n",
            "Epoch 4/10\n",
            "625/625 [==============================] - 3s 5ms/step - loss: 0.2380 - binary_accuracy: 0.9347 - val_loss: 0.3596 - val_binary_accuracy: 0.8738\n",
            "Epoch 5/10\n",
            "625/625 [==============================] - 3s 5ms/step - loss: 0.2075 - binary_accuracy: 0.9489 - val_loss: 0.3707 - val_binary_accuracy: 0.8750\n",
            "Epoch 6/10\n",
            "625/625 [==============================] - 3s 5ms/step - loss: 0.1829 - binary_accuracy: 0.9606 - val_loss: 0.3921 - val_binary_accuracy: 0.8754\n",
            "Epoch 7/10\n",
            "625/625 [==============================] - 3s 5ms/step - loss: 0.1668 - binary_accuracy: 0.9670 - val_loss: 0.4115 - val_binary_accuracy: 0.8748\n",
            "Epoch 8/10\n",
            "625/625 [==============================] - 3s 5ms/step - loss: 0.1504 - binary_accuracy: 0.9733 - val_loss: 0.4324 - val_binary_accuracy: 0.8742\n",
            "Epoch 9/10\n",
            "625/625 [==============================] - 3s 5ms/step - loss: 0.1389 - binary_accuracy: 0.9767 - val_loss: 0.4807 - val_binary_accuracy: 0.8664\n",
            "Epoch 10/10\n",
            "625/625 [==============================] - 3s 5ms/step - loss: 0.1291 - binary_accuracy: 0.9798 - val_loss: 0.4758 - val_binary_accuracy: 0.8706\n",
            "782/782 [==============================] - 1s 1ms/step - loss: 0.5468 - binary_accuracy: 0.8475\n",
            "\n",
            "\n",
            "Loss:  0.5468131899833679\n",
            "Accuracy:  0.8474799990653992\n",
            "\n",
            "\n",
            "\n",
            "\n",
            "Final train and validation loss and accuracy for the Model\n",
            "Final Training Loss :  0.12914353609085083\n",
            "Final Training Accuracy :  0.9798499941825867\n",
            "Final Validation Loss :  0.47583964467048645\n",
            "Final Validation Accuracy :  0.8705999851226807\n",
            "\n",
            "\n"
          ],
          "name": "stdout"
        },
        {
          "output_type": "display_data",
          "data": {
            "image/png": "[encoded data removed]",
            "text/plain": [
              "<Figure size 432x288 with 1 Axes>"
            ]
          },
          "metadata": {
            "tags": [],
            "needs_background": "light"
          }
        },
        {
          "output_type": "display_data",
          "data": {
            "image/png": "[encoded data removed]",
            "text/plain": [
              "<Figure size 432x288 with 1 Axes>"
            ]
          },
          "metadata": {
            "tags": [],
            "needs_background": "light"
          }
        }
      ]
    },
    {
      "cell_type": "markdown",
      "metadata": {
        "id": "VTyBshOw_7-7"
      },
      "source": [
        "# Model - 3 : Building, Compiling, Training, Evaluation"
      ]
    },
    {
      "cell_type": "code",
      "metadata": {
        "colab": {
          "base_uri": "https://localhost:8080/",
          "height": 1000
        },
        "id": "JYYAQcvlYK1_",
        "outputId": "7829b7c3-bf49-4b0a-98ef-3b3597542b67"
      },
      "source": [
        "# Hyperparameter Tuning- \n",
        "# Batch Size: Change the value of batch size in model training\n",
        "\n",
        "\n",
        "# Model Building\n",
        "model_for_batch_size_change = tf.keras.Sequential([\n",
        "  layers.Embedding(max_features + 1, embedding_dim),\n",
        "  layers.GlobalAveragePooling1D(),\n",
        "  layers.Dense(16, activation=tf.nn.relu, kernel_regularizer=keras.regularizers.l2(0.001)),\n",
        "  layers.Dense(32, activation=tf.nn.relu, kernel_regularizer=keras.regularizers.l2(0.001)),\n",
        "  layers.Dense(64, activation=tf.nn.relu, kernel_regularizer=keras.regularizers.l2(0.001)),\n",
        "  layers.Dropout(0.2),\n",
        "  layers.Dense(1)\n",
        "  ])\n",
        "model_for_batch_size_change.summary()\n",
        "\n",
        "# Model Compilation\n",
        "optimizer = keras.optimizers.Adam(learning_rate=0.001)\n",
        "model_for_batch_size_change.compile(loss=losses.BinaryCrossentropy(from_logits=True),\n",
        "              optimizer=optimizer,\n",
        "              metrics=tf.metrics.BinaryAccuracy(threshold=0.0))\n",
        "\n",
        "# Model Training\n",
        "epochs = 10\n",
        "history = model_for_batch_size_change.fit(train_ds, validation_data=val_ds, epochs=epochs, batch_size=200)\n",
        "model_for_batch_size_change_history = history\n",
        "\n",
        "# Model Evaluation\n",
        "loss, accuracy = model_for_batch_size_change.evaluate(test_ds)\n",
        "\n",
        "print(\"\\n\")\n",
        "print(\"Loss: \", loss)\n",
        "print(\"Accuracy: \", accuracy)\n",
        "print(\"\\n\")\n",
        "\n",
        "history_dict = model_for_batch_size_change_history.history\n",
        "history_dict.keys()\n",
        "\n",
        "\n",
        "acc = history_dict['binary_accuracy']\n",
        "val_acc = history_dict['val_binary_accuracy']\n",
        "loss = history_dict['loss']\n",
        "val_loss = history_dict['val_loss']\n",
        "\n",
        "print(\"\\n\")\n",
        "print(\"Final train and validation loss and accuracy for the Model\")\n",
        "print(\"Final Training Loss : \" , loss[-1])\n",
        "print(\"Final Training Accuracy : \", acc[-1])\n",
        "print(\"Final Validation Loss : \", val_loss[-1])\n",
        "print(\"Final Validation Accuracy : \", val_acc[-1])\n",
        "print(\"\\n\")\n",
        "\n",
        "epochs = range(1, len(acc) + 1)\n",
        "\n",
        "\n",
        "plt.plot(epochs, loss, 'bo', label='Training loss')\n",
        "plt.plot(epochs, val_loss, 'b', label='Validation loss')\n",
        "plt.title('Training and validation loss')\n",
        "plt.xlabel('Epochs')\n",
        "plt.ylabel('Loss')\n",
        "plt.legend()\n",
        "\n",
        "plt.show()\n",
        "\n",
        "\n",
        "plt.plot(epochs, acc, 'bo', label='Training acc')\n",
        "plt.plot(epochs, val_acc, 'b', label='Validation acc')\n",
        "plt.title('Training and validation accuracy')\n",
        "plt.xlabel('Epochs')\n",
        "plt.ylabel('Accuracy')\n",
        "plt.legend(loc='lower right')\n",
        "\n",
        "plt.show()\n"
      ],
      "execution_count": 22,
      "outputs": [
        {
          "output_type": "stream",
          "text": [
            "Model: \"sequential_2\"\n",
            "_________________________________________________________________\n",
            "Layer (type)                 Output Shape              Param #   \n",
            "=================================================================\n",
            "embedding_2 (Embedding)      (None, None, 16)          160016    \n",
            "_________________________________________________________________\n",
            "global_average_pooling1d_2 ( (None, 16)                0         \n",
            "_________________________________________________________________\n",
            "dense_8 (Dense)              (None, 16)                272       \n",
            "_________________________________________________________________\n",
            "dense_9 (Dense)              (None, 32)                544       \n",
            "_________________________________________________________________\n",
            "dense_10 (Dense)             (None, 64)                2112      \n",
            "_________________________________________________________________\n",
            "dropout_2 (Dropout)          (None, 64)                0         \n",
            "_________________________________________________________________\n",
            "dense_11 (Dense)             (None, 1)                 65        \n",
            "=================================================================\n",
            "Total params: 163,009\n",
            "Trainable params: 163,009\n",
            "Non-trainable params: 0\n",
            "_________________________________________________________________\n",
            "Epoch 1/10\n",
            "625/625 [==============================] - 4s 5ms/step - loss: 0.5638 - binary_accuracy: 0.7031 - val_loss: 0.3636 - val_binary_accuracy: 0.8600\n",
            "Epoch 2/10\n",
            "625/625 [==============================] - 3s 5ms/step - loss: 0.3091 - binary_accuracy: 0.8925 - val_loss: 0.3454 - val_binary_accuracy: 0.8714\n",
            "Epoch 3/10\n",
            "625/625 [==============================] - 3s 6ms/step - loss: 0.2504 - binary_accuracy: 0.9222 - val_loss: 0.3496 - val_binary_accuracy: 0.8716\n",
            "Epoch 4/10\n",
            "625/625 [==============================] - 3s 5ms/step - loss: 0.2131 - binary_accuracy: 0.9412 - val_loss: 0.3678 - val_binary_accuracy: 0.8706\n",
            "Epoch 5/10\n",
            "625/625 [==============================] - 3s 5ms/step - loss: 0.1830 - binary_accuracy: 0.9553 - val_loss: 0.3976 - val_binary_accuracy: 0.8660\n",
            "Epoch 6/10\n",
            "625/625 [==============================] - 3s 5ms/step - loss: 0.1601 - binary_accuracy: 0.9663 - val_loss: 0.4221 - val_binary_accuracy: 0.8666\n",
            "Epoch 7/10\n",
            "625/625 [==============================] - 3s 5ms/step - loss: 0.1427 - binary_accuracy: 0.9747 - val_loss: 0.4378 - val_binary_accuracy: 0.8670\n",
            "Epoch 8/10\n",
            "625/625 [==============================] - 3s 6ms/step - loss: 0.1265 - binary_accuracy: 0.9806 - val_loss: 0.4658 - val_binary_accuracy: 0.8660\n",
            "Epoch 9/10\n",
            "625/625 [==============================] - 3s 5ms/step - loss: 0.1197 - binary_accuracy: 0.9825 - val_loss: 0.4957 - val_binary_accuracy: 0.8618\n",
            "Epoch 10/10\n",
            "625/625 [==============================] - 3s 5ms/step - loss: 0.1202 - binary_accuracy: 0.9807 - val_loss: 0.5638 - val_binary_accuracy: 0.8424\n",
            "782/782 [==============================] - 1s 1ms/step - loss: 0.6669 - binary_accuracy: 0.8165\n",
            "\n",
            "\n",
            "Loss:  0.6669371128082275\n",
            "Accuracy:  0.8165199756622314\n",
            "\n",
            "\n",
            "\n",
            "\n",
            "Final train and validation loss and accuracy for the Model\n",
            "Final Training Loss :  0.12016084045171738\n",
            "Final Training Accuracy :  0.980650007724762\n",
            "Final Validation Loss :  0.5637763142585754\n",
            "Final Validation Accuracy :  0.8424000144004822\n",
            "\n",
            "\n"
          ],
          "name": "stdout"
        },
        {
          "output_type": "display_data",
          "data": {
            "image/png": "[encoded data removed]",
            "text/plain": [
              "<Figure size 432x288 with 1 Axes>"
            ]
          },
          "metadata": {
            "tags": [],
            "needs_background": "light"
          }
        },
        {
          "output_type": "display_data",
          "data": {
            "image/png": "[encoded data removed]",
            "text/plain": [
              "<Figure size 432x288 with 1 Axes>"
            ]
          },
          "metadata": {
            "tags": [],
            "needs_background": "light"
          }
        }
      ]
    },
    {
      "cell_type": "markdown",
      "metadata": {
        "id": "-6f7rk6H37UN"
      },
      "source": [
        "1) DNN with 3 hidden layers\n",
        "Loss:  0.635286271572113\n",
        "Accuracy:  0.8299999833106995\n",
        "\n",
        "2) Dropout: Change the position and value of dropout layer\n",
        "Loss:  0.5468131899833679\n",
        "Accuracy:  0.8474799990653992\n",
        "\n",
        "3) Batch Size: Change the value of batch size in model training\n",
        "Loss:  0.6669371128082275\n",
        "Accuracy:  0.8165199756622314\n",
        "\n",
        "\n",
        "- Based on the above model training for different hyper parameters and hidden layer configurations, the accuracy of all 3 different models, looks similar. However, the loss function is quite varying for the models. \n",
        "- For the given dataset , model with reduced batch size is having low loss function compared to the other model with standard batch size."
      ]
    }
  ]
}